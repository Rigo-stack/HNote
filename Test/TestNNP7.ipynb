{
 "cells": [
  {
   "cell_type": "code",
   "execution_count": 2,
   "metadata": {},
   "outputs": [],
   "source": [
    "import cv2\n",
    "import numpy as np\n",
    "import tensorflow as tf\n",
    "import matplotlib.pyplot as plt"
   ]
  },
  {
   "cell_type": "code",
   "execution_count": 3,
   "metadata": {},
   "outputs": [
    {
     "name": "stdout",
     "output_type": "stream",
     "text": [
      "Image not found: /Users/rigo/HNoteApp/HNote/Digits/zero.png\n",
      "\u001b[1m1/1\u001b[0m \u001b[32m━━━━━━━━━━━━━━━━━━━━\u001b[0m\u001b[37m\u001b[0m \u001b[1m0s\u001b[0m 131ms/step\n",
      "Image: one.png, Predicted: one\n"
     ]
    },
    {
     "name": "stderr",
     "output_type": "stream",
     "text": [
      "[ WARN:0@19.419] global loadsave.cpp:241 findDecoder imread_('/Users/rigo/HNoteApp/HNote/Digits/zero.png'): can't open/read file: check file path/integrity\n"
     ]
    },
    {
     "data": {
      "image/png": "[encoded data removed]",
      "text/plain": [
       "<Figure size 300x300 with 1 Axes>"
      ]
     },
     "metadata": {},
     "output_type": "display_data"
    },
    {
     "name": "stdout",
     "output_type": "stream",
     "text": [
      "\u001b[1m1/1\u001b[0m \u001b[32m━━━━━━━━━━━━━━━━━━━━\u001b[0m\u001b[37m\u001b[0m \u001b[1m0s\u001b[0m 12ms/step\n",
      "Image: two.png, Predicted: two\n"
     ]
    },
    {
     "data": {
      "image/png": "[encoded data removed]",
      "text/plain": [
       "<Figure size 300x300 with 1 Axes>"
      ]
     },
     "metadata": {},
     "output_type": "display_data"
    },
    {
     "name": "stdout",
     "output_type": "stream",
     "text": [
      "\u001b[1m1/1\u001b[0m \u001b[32m━━━━━━━━━━━━━━━━━━━━\u001b[0m\u001b[37m\u001b[0m \u001b[1m0s\u001b[0m 10ms/step\n",
      "Image: three.png, Predicted: three\n"
     ]
    },
    {
     "data": {
      "image/png": "[encoded data removed]",
      "text/plain": [
       "<Figure size 300x300 with 1 Axes>"
      ]
     },
     "metadata": {},
     "output_type": "display_data"
    },
    {
     "name": "stdout",
     "output_type": "stream",
     "text": [
      "\u001b[1m1/1\u001b[0m \u001b[32m━━━━━━━━━━━━━━━━━━━━\u001b[0m\u001b[37m\u001b[0m \u001b[1m0s\u001b[0m 12ms/step\n",
      "Image: four.png, Predicted: four\n"
     ]
    },
    {
     "data": {
      "image/png": "[encoded data removed]",
      "text/plain": [
       "<Figure size 300x300 with 1 Axes>"
      ]
     },
     "metadata": {},
     "output_type": "display_data"
    },
    {
     "name": "stdout",
     "output_type": "stream",
     "text": [
      "\u001b[1m1/1\u001b[0m \u001b[32m━━━━━━━━━━━━━━━━━━━━\u001b[0m\u001b[37m\u001b[0m \u001b[1m0s\u001b[0m 12ms/step\n",
      "Image: five.png, Predicted: five\n"
     ]
    },
    {
     "data": {
      "image/png": "[encoded data removed]",
      "text/plain": [
       "<Figure size 300x300 with 1 Axes>"
      ]
     },
     "metadata": {},
     "output_type": "display_data"
    },
    {
     "name": "stdout",
     "output_type": "stream",
     "text": [
      "Image not found: /Users/rigo/HNoteApp/HNote/Digits/six.png\n",
      "Image not found: /Users/rigo/HNoteApp/HNote/Digits/seven.png\n",
      "Image not found: /Users/rigo/HNoteApp/HNote/Digits/eight.png\n",
      "Image not found: /Users/rigo/HNoteApp/HNote/Digits/nine.png\n"
     ]
    },
    {
     "name": "stderr",
     "output_type": "stream",
     "text": [
      "[ WARN:0@19.820] global loadsave.cpp:241 findDecoder imread_('/Users/rigo/HNoteApp/HNote/Digits/six.png'): can't open/read file: check file path/integrity\n",
      "[ WARN:0@19.821] global loadsave.cpp:241 findDecoder imread_('/Users/rigo/HNoteApp/HNote/Digits/seven.png'): can't open/read file: check file path/integrity\n",
      "[ WARN:0@19.821] global loadsave.cpp:241 findDecoder imread_('/Users/rigo/HNoteApp/HNote/Digits/eight.png'): can't open/read file: check file path/integrity\n",
      "[ WARN:0@19.821] global loadsave.cpp:241 findDecoder imread_('/Users/rigo/HNoteApp/HNote/Digits/nine.png'): can't open/read file: check file path/integrity\n"
     ]
    }
   ],
   "source": [
    "# Load the saved model\n",
    "model = tf.keras.models.load_model('/Users/rigo/HNoteApp/HNote/Models/my_model.keras')\n",
    "\n",
    "# File names : Only have files one to five :\n",
    "number_names = [\"zero\", \"one\", \"two\", \"three\", \"four\",\n",
    "                \"five\", \"six\", \"seven\", \"eight\", \"nine\"]\n",
    "\n",
    "for name in number_names:\n",
    "    file_path = f\"/Users/rigo/HNoteApp/HNote/Digits/{name}.png\"\n",
    "    # /Users/rigo/HNoteApp/HNote/Digits\n",
    "\n",
    "    # Read the image and convert it to grayscale\n",
    "    img = cv2.imread(file_path, cv2.IMREAD_GRAYSCALE)\n",
    "\n",
    "    if img is None:\n",
    "        print(f\"Image not found: {file_path}\")\n",
    "        continue\n",
    "\n",
    "    # Resize to 28x28 (This is the expected input size)\n",
    "    img_resized = cv2.resize(img, (28, 28))\n",
    "\n",
    "    # Normalize pixel values\n",
    "    img_normalized = img_resized.astype(\"float32\") / 255.0\n",
    "\n",
    "    # Reshape to (1, 28, 28, 1) to match model input shape\n",
    "    img_input = np.expand_dims(img_normalized, axis=0)  # (1, 28, 28)\n",
    "    img_input = np.expand_dims(img_input, axis=-1)      # (1, 28, 28, 1)\n",
    "\n",
    "    # Create the decoder input (SOS token = 10)\n",
    "    decoder_input = np.array([[10]])  # shape: (1, 1)\n",
    "\n",
    "    # Predicting using the model\n",
    "    predictions = model.predict([img_input, decoder_input])\n",
    "    predicted_token = np.argmax(predictions, axis=-1)[0, 0]\n",
    "    predicted_name = number_names[predicted_token]\n",
    "\n",
    "    print(f\"Image: {name}.png, Predicted: {predicted_name}\")\n",
    "\n",
    "    # Visualize\n",
    "    plt.figure(figsize=(3, 3))\n",
    "    plt.imshow(img_resized, cmap=\"gray\")\n",
    "    plt.title(f\"Predicted: {predicted_name}\")\n",
    "    plt.axis(\"off\")\n",
    "    plt.show()\n"
   ]
  }
 ],
 "metadata": {
  "kernelspec": {
   "display_name": "base",
   "language": "python",
   "name": "python3"
  },
  "language_info": {
   "codemirror_mode": {
    "name": "ipython",
    "version": 3
   },
   "file_extension": ".py",
   "mimetype": "text/x-python",
   "name": "python",
   "nbconvert_exporter": "python",
   "pygments_lexer": "ipython3",
   "version": "3.12.4"
  }
 },
 "nbformat": 4,
 "nbformat_minor": 2
}
